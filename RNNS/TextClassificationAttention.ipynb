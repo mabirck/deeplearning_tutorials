{
  "nbformat": 4,
  "nbformat_minor": 0,
  "metadata": {
    "colab": {
      "name": "TextClassificationAttention.ipynb",
      "version": "0.3.2",
      "views": {},
      "default_view": {},
      "provenance": [],
      "collapsed_sections": []
    }
  },
  "cells": [
    {
      "metadata": {
        "id": "pOlafqvVvD1G",
        "colab_type": "text"
      },
      "source": [
        "#(NOT FINISHED/FUNCTIONAL)\n",
        "\n",
        "Text Classification with Attentional RNN!\n",
        "\n",
        "HIGHLY BASED ON THE LINKS BELOW:\n",
        "\n",
        "https://richliao.github.io/supervised/classification/2016/12/26/textclassifier-RNN/\n",
        "\n",
        "https://machinelearningmastery.com/predict-sentiment-movie-reviews-using-deep-learning/"
      ],
      "cell_type": "markdown"
    },
    {
      "metadata": {
        "id": "cjSIuylPu_-G",
        "colab_type": "code",
        "colab": {
          "autoexec": {
            "startup": false,
            "wait_interval": 0
          },
          "output_extras": [
            {
              "item_id": 1
            }
          ],
          "base_uri": "https://localhost:8080/",
          "height": 34
        },
        "outputId": "a82b1df2-0581-4174-9357-73296d5469cd",
        "executionInfo": {
          "status": "ok",
          "timestamp": 1510716087177,
          "user_tz": 120,
          "elapsed": 2505,
          "user": {
            "displayName": "Marco Antônio Ferreira Birck",
            "photoUrl": "https://lh3.googleusercontent.com/a/default-user=s128",
            "userId": "103217202634095285975"
          }
        }
      },
      "source": [
        "import numpy as np\n",
        "import keras\n",
        "from keras.models import Model\n",
        "from keras.layers import Input, Embedding, Bidirectional, LSTM, Dense\n",
        "from keras.datasets import imdb\n",
        "from keras.preprocessing import sequence\n",
        "from keras.utils import to_categorical\n",
        "from keras.engine.topology import Layer\n",
        "from keras import initializers\n",
        "\n",
        "import tensorflow as tf"
      ],
      "cell_type": "code",
      "execution_count": 4,
      "outputs": [
        {
          "output_type": "stream",
          "text": [
            "Using TensorFlow backend.\n"
          ],
          "name": "stderr"
        }
      ]
    },
    {
      "metadata": {
        "id": "N3lpDumnfnF0",
        "colab_type": "code",
        "colab": {
          "autoexec": {
            "startup": false,
            "wait_interval": 0
          }
        }
      },
      "source": [
        "class AttLayer(Layer):\n",
        "  def __init__(self, **kwargs):\n",
        "    print (kwargs)\n",
        "    self.init = initializers.get('normal')\n",
        "    super(AttLayer, self).__init__(**kwargs)\n",
        "    \n",
        "    def build(self, input_shape):\n",
        "      print input_shape\n",
        "      assert len(input_shape)==3\n",
        "      print input_shape\n",
        "      self.W = self.init((input_shape[-1],))\n",
        "      self.trainable_weights = [self.W]\n",
        "      super(AttLayer, self).build(input_shape)\n",
        "    \n",
        "    def call(self, x, mask=None):\n",
        "      eij = tf.layers.tanh(tf.matmul(x, self.W))\n",
        "      \n",
        "      ai = tf.exp(eij)\n",
        "      weights = ai/tf.sum(ai, axis=1).dimshufflw(0, 'x')\n",
        "      \n",
        "      weighted_input = x*weights.dimshuffle(0, 1, 'x')\n",
        "      return weighted_input.sum(axis=1)\n",
        "    \n",
        "    def get_output_shape_for(self, input_shape):\n",
        "      return (input_shape[0], input_shape[-1])\n",
        "      "
      ],
      "cell_type": "code",
      "execution_count": 0,
      "outputs": []
    },
    {
      "metadata": {
        "id": "iG3-sjSg1_0s",
        "colab_type": "code",
        "colab": {
          "autoexec": {
            "startup": false,
            "wait_interval": 0
          }
        }
      },
      "source": [
        "# SELECT VOCABULARY MAXIMUN SIZE\n",
        "top_words = 20000\n",
        "(X_train, y_train), (X_val, y_val) = imdb.load_data(num_words=top_words)"
      ],
      "cell_type": "code",
      "execution_count": 0,
      "outputs": []
    },
    {
      "metadata": {
        "id": "NhzZ0Zyw_rte",
        "colab_type": "code",
        "colab": {
          "autoexec": {
            "startup": false,
            "wait_interval": 0
          }
        }
      },
      "source": [
        "# PADDING DATA ACCORDING TO MAXIMUN SENTENCE LENGTH\n",
        "max_words = 1000\n",
        "X_t = sequence.pad_sequences(X_train, maxlen=max_words)\n",
        "X_v = sequence.pad_sequences(X_val, maxlen=max_words)\n",
        "\n",
        "# CONVERTING TO ONE HOT\n",
        "depth = 2\n",
        "y_t = to_categorical(y_train.astype(int), depth)\n",
        "y_v = to_categorical(y_val.astype(int), depth)"
      ],
      "cell_type": "code",
      "execution_count": 0,
      "outputs": []
    },
    {
      "metadata": {
        "id": "ohj3A9Rmvvhk",
        "colab_type": "code",
        "colab": {
          "autoexec": {
            "startup": false,
            "wait_interval": 0
          },
          "output_extras": [
            {
              "item_id": 1
            }
          ],
          "base_uri": "https://localhost:8080/",
          "height": 34
        },
        "outputId": "78f86332-92a2-4a92-9366-b3dea7eef4a9",
        "executionInfo": {
          "status": "ok",
          "timestamp": 1510716122504,
          "user_tz": 120,
          "elapsed": 1483,
          "user": {
            "displayName": "Marco Antônio Ferreira Birck",
            "photoUrl": "https://lh3.googleusercontent.com/a/default-user=s128",
            "userId": "103217202634095285975"
          }
        }
      },
      "source": [
        "sequence_input = Input(shape=(max_words,))\n",
        "embedded_sequences = Embedding(top_words, 100, input_length=max_words)(sequence_input)\n",
        "l_lstm = Bidirectional(LSTM(100))(embedded_sequences)\n",
        "l_att = AttLayer()(l_lstm)\n",
        "preds = Dense(2, activation=\"softmax\")(l_att)\n",
        "model = Model(sequence_input, preds)\n",
        "\n",
        "\n",
        "model.compile(loss='categorical_crossentropy', optimizer='rmsprop', metrics=['acc'])"
      ],
      "cell_type": "code",
      "execution_count": 8,
      "outputs": [
        {
          "output_type": "stream",
          "text": [
            "{}\n"
          ],
          "name": "stdout"
        }
      ]
    },
    {
      "metadata": {
        "id": "DF4s1MP5_nU0",
        "colab_type": "code",
        "colab": {
          "autoexec": {
            "startup": false,
            "wait_interval": 0
          },
          "output_extras": [
            {
              "item_id": 1
            }
          ],
          "base_uri": "https://localhost:8080/",
          "height": 323
        },
        "outputId": "9ae4ee25-2da5-4b3e-d9a4-785af3ba28ba",
        "executionInfo": {
          "status": "ok",
          "timestamp": 1510716123221,
          "user_tz": 120,
          "elapsed": 695,
          "user": {
            "displayName": "Marco Antônio Ferreira Birck",
            "photoUrl": "https://lh3.googleusercontent.com/a/default-user=s128",
            "userId": "103217202634095285975"
          }
        }
      },
      "source": [
        "print(\"Model fitting - Bidirectional LSTM\")\n",
        "model.summary()"
      ],
      "cell_type": "code",
      "execution_count": 9,
      "outputs": [
        {
          "output_type": "stream",
          "text": [
            "Model fitting - Bidirectional LSTM\n",
            "_________________________________________________________________\n",
            "Layer (type)                 Output Shape              Param #   \n",
            "=================================================================\n",
            "input_1 (InputLayer)         (None, 1000)              0         \n",
            "_________________________________________________________________\n",
            "embedding_1 (Embedding)      (None, 1000, 100)         2000000   \n",
            "_________________________________________________________________\n",
            "bidirectional_1 (Bidirection (None, 200)               160800    \n",
            "_________________________________________________________________\n",
            "att_layer_1 (AttLayer)       (None, 200)               0         \n",
            "_________________________________________________________________\n",
            "dense_1 (Dense)              (None, 2)                 402       \n",
            "=================================================================\n",
            "Total params: 2,161,202\n",
            "Trainable params: 2,161,202\n",
            "Non-trainable params: 0\n",
            "_________________________________________________________________\n"
          ],
          "name": "stdout"
        }
      ]
    },
    {
      "metadata": {
        "id": "67B558BKxltq",
        "colab_type": "code",
        "colab": {
          "autoexec": {
            "startup": false,
            "wait_interval": 0
          },
          "output_extras": [
            {
              "item_id": 1
            }
          ],
          "base_uri": "https://localhost:8080/",
          "height": 34
        },
        "outputId": "49a0b848-f4e8-40cf-9656-2351c1d4e365"
      },
      "source": [
        "model.fit(X_t, y_t, epochs=1, steps_per_epoch=100, verbose=1)"
      ],
      "cell_type": "code",
      "execution_count": 0,
      "outputs": [
        {
          "output_type": "stream",
          "text": [
            "Epoch 1/1\n"
          ],
          "name": "stdout"
        }
      ]
    },
    {
      "metadata": {
        "id": "JVMUvYBx1A18",
        "colab_type": "code",
        "colab": {
          "autoexec": {
            "startup": false,
            "wait_interval": 0
          }
        }
      },
      "source": [
        ""
      ],
      "cell_type": "code",
      "execution_count": 0,
      "outputs": []
    }
  ]
}